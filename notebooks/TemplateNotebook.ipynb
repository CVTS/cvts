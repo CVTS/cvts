{
 "cells": [
  {
   "cell_type": "code",
   "execution_count": 1,
   "id": "0e683b32-5a17-48ae-a989-3707a864fd50",
   "metadata": {
    "collapsed": true,
    "jupyter": {
     "outputs_hidden": true
    },
    "tags": []
   },
   "outputs": [
    {
     "name": "stdout",
     "output_type": "stream",
     "text": [
      "Requirement already satisfied: numpy in ./venv-notebooks/lib/python3.8/site-packages (from -r requirements.txt (line 1)) (1.21.2)\n",
      "Requirement already satisfied: jupyterlab in ./venv-notebooks/lib/python3.8/site-packages (from -r requirements.txt (line 2)) (3.1.10)\n",
      "Requirement already satisfied: matplotlib in ./venv-notebooks/lib/python3.8/site-packages (from -r requirements.txt (line 3)) (3.4.3)\n",
      "Requirement already satisfied: geopandas in ./venv-notebooks/lib/python3.8/site-packages (from -r requirements.txt (line 4)) (0.9.0)\n",
      "Requirement already satisfied: psycopg2-binary in ./venv-notebooks/lib/python3.8/site-packages (from -r requirements.txt (line 5)) (2.9.1)\n",
      "Requirement already satisfied: tornado>=6.1.0 in ./venv-notebooks/lib/python3.8/site-packages (from jupyterlab->-r requirements.txt (line 2)) (6.1)\n",
      "Requirement already satisfied: jupyter-server~=1.4 in ./venv-notebooks/lib/python3.8/site-packages (from jupyterlab->-r requirements.txt (line 2)) (1.10.2)\n",
      "Requirement already satisfied: packaging in ./venv-notebooks/lib/python3.8/site-packages (from jupyterlab->-r requirements.txt (line 2)) (21.0)\n",
      "Requirement already satisfied: nbclassic~=0.2 in ./venv-notebooks/lib/python3.8/site-packages (from jupyterlab->-r requirements.txt (line 2)) (0.3.1)\n",
      "Requirement already satisfied: ipython in ./venv-notebooks/lib/python3.8/site-packages (from jupyterlab->-r requirements.txt (line 2)) (7.27.0)\n",
      "Requirement already satisfied: jupyterlab-server~=2.3 in ./venv-notebooks/lib/python3.8/site-packages (from jupyterlab->-r requirements.txt (line 2)) (2.7.2)\n",
      "Requirement already satisfied: jinja2>=2.1 in ./venv-notebooks/lib/python3.8/site-packages (from jupyterlab->-r requirements.txt (line 2)) (3.0.1)\n",
      "Requirement already satisfied: jupyter-core in ./venv-notebooks/lib/python3.8/site-packages (from jupyterlab->-r requirements.txt (line 2)) (4.7.1)\n",
      "Requirement already satisfied: pyparsing>=2.2.1 in ./venv-notebooks/lib/python3.8/site-packages (from matplotlib->-r requirements.txt (line 3)) (2.4.7)\n",
      "Requirement already satisfied: pillow>=6.2.0 in ./venv-notebooks/lib/python3.8/site-packages (from matplotlib->-r requirements.txt (line 3)) (8.3.1)\n",
      "Requirement already satisfied: python-dateutil>=2.7 in ./venv-notebooks/lib/python3.8/site-packages (from matplotlib->-r requirements.txt (line 3)) (2.8.2)\n",
      "Requirement already satisfied: cycler>=0.10 in ./venv-notebooks/lib/python3.8/site-packages (from matplotlib->-r requirements.txt (line 3)) (0.10.0)\n",
      "Requirement already satisfied: kiwisolver>=1.0.1 in ./venv-notebooks/lib/python3.8/site-packages (from matplotlib->-r requirements.txt (line 3)) (1.3.2)\n",
      "Requirement already satisfied: pyproj>=2.2.0 in ./venv-notebooks/lib/python3.8/site-packages (from geopandas->-r requirements.txt (line 4)) (3.1.0)\n",
      "Requirement already satisfied: fiona>=1.8 in ./venv-notebooks/lib/python3.8/site-packages (from geopandas->-r requirements.txt (line 4)) (1.8.20)\n",
      "Requirement already satisfied: pandas>=0.24.0 in ./venv-notebooks/lib/python3.8/site-packages (from geopandas->-r requirements.txt (line 4)) (1.3.2)\n",
      "Requirement already satisfied: shapely>=1.6 in ./venv-notebooks/lib/python3.8/site-packages (from geopandas->-r requirements.txt (line 4)) (1.7.1)\n",
      "Requirement already satisfied: terminado>=0.8.3 in ./venv-notebooks/lib/python3.8/site-packages (from jupyter-server~=1.4->jupyterlab->-r requirements.txt (line 2)) (0.11.1)\n",
      "Requirement already satisfied: requests-unixsocket in ./venv-notebooks/lib/python3.8/site-packages (from jupyter-server~=1.4->jupyterlab->-r requirements.txt (line 2)) (0.2.0)\n",
      "Requirement already satisfied: argon2-cffi in ./venv-notebooks/lib/python3.8/site-packages (from jupyter-server~=1.4->jupyterlab->-r requirements.txt (line 2)) (21.1.0)\n",
      "Requirement already satisfied: anyio<4,>=3.1.0 in ./venv-notebooks/lib/python3.8/site-packages (from jupyter-server~=1.4->jupyterlab->-r requirements.txt (line 2)) (3.3.0)\n",
      "Requirement already satisfied: nbconvert in ./venv-notebooks/lib/python3.8/site-packages (from jupyter-server~=1.4->jupyterlab->-r requirements.txt (line 2)) (6.1.0)\n",
      "Requirement already satisfied: traitlets>=4.2.1 in ./venv-notebooks/lib/python3.8/site-packages (from jupyter-server~=1.4->jupyterlab->-r requirements.txt (line 2)) (5.1.0)\n",
      "Requirement already satisfied: pyzmq>=17 in ./venv-notebooks/lib/python3.8/site-packages (from jupyter-server~=1.4->jupyterlab->-r requirements.txt (line 2)) (22.2.1)\n",
      "Requirement already satisfied: prometheus-client in ./venv-notebooks/lib/python3.8/site-packages (from jupyter-server~=1.4->jupyterlab->-r requirements.txt (line 2)) (0.11.0)\n",
      "Requirement already satisfied: websocket-client in ./venv-notebooks/lib/python3.8/site-packages (from jupyter-server~=1.4->jupyterlab->-r requirements.txt (line 2)) (1.2.1)\n",
      "Requirement already satisfied: Send2Trash in ./venv-notebooks/lib/python3.8/site-packages (from jupyter-server~=1.4->jupyterlab->-r requirements.txt (line 2)) (1.8.0)\n",
      "Requirement already satisfied: nbformat in ./venv-notebooks/lib/python3.8/site-packages (from jupyter-server~=1.4->jupyterlab->-r requirements.txt (line 2)) (5.1.3)\n",
      "Requirement already satisfied: ipython-genutils in ./venv-notebooks/lib/python3.8/site-packages (from jupyter-server~=1.4->jupyterlab->-r requirements.txt (line 2)) (0.2.0)\n",
      "Requirement already satisfied: jupyter-client>=6.1.1 in ./venv-notebooks/lib/python3.8/site-packages (from jupyter-server~=1.4->jupyterlab->-r requirements.txt (line 2)) (7.0.2)\n",
      "Requirement already satisfied: notebook<7 in ./venv-notebooks/lib/python3.8/site-packages (from nbclassic~=0.2->jupyterlab->-r requirements.txt (line 2)) (6.4.3)\n",
      "Requirement already satisfied: pexpect>4.3; sys_platform != \"win32\" in ./venv-notebooks/lib/python3.8/site-packages (from ipython->jupyterlab->-r requirements.txt (line 2)) (4.8.0)\n",
      "Requirement already satisfied: decorator in ./venv-notebooks/lib/python3.8/site-packages (from ipython->jupyterlab->-r requirements.txt (line 2)) (5.0.9)\n",
      "Requirement already satisfied: jedi>=0.16 in ./venv-notebooks/lib/python3.8/site-packages (from ipython->jupyterlab->-r requirements.txt (line 2)) (0.18.0)\n",
      "Requirement already satisfied: prompt-toolkit!=3.0.0,!=3.0.1,<3.1.0,>=2.0.0 in ./venv-notebooks/lib/python3.8/site-packages (from ipython->jupyterlab->-r requirements.txt (line 2)) (3.0.20)\n",
      "Requirement already satisfied: backcall in ./venv-notebooks/lib/python3.8/site-packages (from ipython->jupyterlab->-r requirements.txt (line 2)) (0.2.0)\n",
      "Requirement already satisfied: matplotlib-inline in ./venv-notebooks/lib/python3.8/site-packages (from ipython->jupyterlab->-r requirements.txt (line 2)) (0.1.2)\n",
      "Requirement already satisfied: setuptools>=18.5 in ./venv-notebooks/lib/python3.8/site-packages (from ipython->jupyterlab->-r requirements.txt (line 2)) (44.0.0)\n",
      "Requirement already satisfied: pygments in ./venv-notebooks/lib/python3.8/site-packages (from ipython->jupyterlab->-r requirements.txt (line 2)) (2.10.0)\n",
      "Requirement already satisfied: pickleshare in ./venv-notebooks/lib/python3.8/site-packages (from ipython->jupyterlab->-r requirements.txt (line 2)) (0.7.5)\n",
      "Requirement already satisfied: requests in ./venv-notebooks/lib/python3.8/site-packages (from jupyterlab-server~=2.3->jupyterlab->-r requirements.txt (line 2)) (2.26.0)\n",
      "Requirement already satisfied: json5 in ./venv-notebooks/lib/python3.8/site-packages (from jupyterlab-server~=2.3->jupyterlab->-r requirements.txt (line 2)) (0.9.6)\n",
      "Requirement already satisfied: entrypoints>=0.2.2 in ./venv-notebooks/lib/python3.8/site-packages (from jupyterlab-server~=2.3->jupyterlab->-r requirements.txt (line 2)) (0.3)\n",
      "Requirement already satisfied: jsonschema>=3.0.1 in ./venv-notebooks/lib/python3.8/site-packages (from jupyterlab-server~=2.3->jupyterlab->-r requirements.txt (line 2)) (3.2.0)\n",
      "Requirement already satisfied: babel in ./venv-notebooks/lib/python3.8/site-packages (from jupyterlab-server~=2.3->jupyterlab->-r requirements.txt (line 2)) (2.9.1)\n",
      "Requirement already satisfied: MarkupSafe>=2.0 in ./venv-notebooks/lib/python3.8/site-packages (from jinja2>=2.1->jupyterlab->-r requirements.txt (line 2)) (2.0.1)\n",
      "Requirement already satisfied: six>=1.5 in ./venv-notebooks/lib/python3.8/site-packages (from python-dateutil>=2.7->matplotlib->-r requirements.txt (line 3)) (1.16.0)\n",
      "Requirement already satisfied: certifi in ./venv-notebooks/lib/python3.8/site-packages (from pyproj>=2.2.0->geopandas->-r requirements.txt (line 4)) (2021.5.30)\n",
      "Requirement already satisfied: attrs>=17 in ./venv-notebooks/lib/python3.8/site-packages (from fiona>=1.8->geopandas->-r requirements.txt (line 4)) (21.2.0)\n",
      "Requirement already satisfied: click>=4.0 in ./venv-notebooks/lib/python3.8/site-packages (from fiona>=1.8->geopandas->-r requirements.txt (line 4)) (8.0.1)\n",
      "Requirement already satisfied: munch in ./venv-notebooks/lib/python3.8/site-packages (from fiona>=1.8->geopandas->-r requirements.txt (line 4)) (2.5.0)\n",
      "Requirement already satisfied: cligj>=0.5 in ./venv-notebooks/lib/python3.8/site-packages (from fiona>=1.8->geopandas->-r requirements.txt (line 4)) (0.7.2)\n",
      "Requirement already satisfied: click-plugins>=1.0 in ./venv-notebooks/lib/python3.8/site-packages (from fiona>=1.8->geopandas->-r requirements.txt (line 4)) (1.1.1)\n",
      "Requirement already satisfied: pytz>=2017.3 in ./venv-notebooks/lib/python3.8/site-packages (from pandas>=0.24.0->geopandas->-r requirements.txt (line 4)) (2021.1)\n",
      "Requirement already satisfied: ptyprocess; os_name != \"nt\" in ./venv-notebooks/lib/python3.8/site-packages (from terminado>=0.8.3->jupyter-server~=1.4->jupyterlab->-r requirements.txt (line 2)) (0.7.0)\n",
      "Requirement already satisfied: urllib3>=1.8 in ./venv-notebooks/lib/python3.8/site-packages (from requests-unixsocket->jupyter-server~=1.4->jupyterlab->-r requirements.txt (line 2)) (1.26.6)\n",
      "Requirement already satisfied: cffi>=1.0.0 in ./venv-notebooks/lib/python3.8/site-packages (from argon2-cffi->jupyter-server~=1.4->jupyterlab->-r requirements.txt (line 2)) (1.14.6)\n",
      "Requirement already satisfied: sniffio>=1.1 in ./venv-notebooks/lib/python3.8/site-packages (from anyio<4,>=3.1.0->jupyter-server~=1.4->jupyterlab->-r requirements.txt (line 2)) (1.2.0)\n",
      "Requirement already satisfied: idna>=2.8 in ./venv-notebooks/lib/python3.8/site-packages (from anyio<4,>=3.1.0->jupyter-server~=1.4->jupyterlab->-r requirements.txt (line 2)) (3.2)\n",
      "Requirement already satisfied: bleach in ./venv-notebooks/lib/python3.8/site-packages (from nbconvert->jupyter-server~=1.4->jupyterlab->-r requirements.txt (line 2)) (4.1.0)\n",
      "Requirement already satisfied: testpath in ./venv-notebooks/lib/python3.8/site-packages (from nbconvert->jupyter-server~=1.4->jupyterlab->-r requirements.txt (line 2)) (0.5.0)\n",
      "Requirement already satisfied: pandocfilters>=1.4.1 in ./venv-notebooks/lib/python3.8/site-packages (from nbconvert->jupyter-server~=1.4->jupyterlab->-r requirements.txt (line 2)) (1.4.3)\n",
      "Requirement already satisfied: defusedxml in ./venv-notebooks/lib/python3.8/site-packages (from nbconvert->jupyter-server~=1.4->jupyterlab->-r requirements.txt (line 2)) (0.7.1)\n",
      "Requirement already satisfied: mistune<2,>=0.8.1 in ./venv-notebooks/lib/python3.8/site-packages (from nbconvert->jupyter-server~=1.4->jupyterlab->-r requirements.txt (line 2)) (0.8.4)\n",
      "Requirement already satisfied: nbclient<0.6.0,>=0.5.0 in ./venv-notebooks/lib/python3.8/site-packages (from nbconvert->jupyter-server~=1.4->jupyterlab->-r requirements.txt (line 2)) (0.5.4)\n",
      "Requirement already satisfied: jupyterlab-pygments in ./venv-notebooks/lib/python3.8/site-packages (from nbconvert->jupyter-server~=1.4->jupyterlab->-r requirements.txt (line 2)) (0.1.2)\n",
      "Requirement already satisfied: nest-asyncio>=1.5 in ./venv-notebooks/lib/python3.8/site-packages (from jupyter-client>=6.1.1->jupyter-server~=1.4->jupyterlab->-r requirements.txt (line 2)) (1.5.1)\n",
      "Requirement already satisfied: ipykernel in ./venv-notebooks/lib/python3.8/site-packages (from notebook<7->nbclassic~=0.2->jupyterlab->-r requirements.txt (line 2)) (6.3.1)\n",
      "Requirement already satisfied: parso<0.9.0,>=0.8.0 in ./venv-notebooks/lib/python3.8/site-packages (from jedi>=0.16->ipython->jupyterlab->-r requirements.txt (line 2)) (0.8.2)\n",
      "Requirement already satisfied: wcwidth in ./venv-notebooks/lib/python3.8/site-packages (from prompt-toolkit!=3.0.0,!=3.0.1,<3.1.0,>=2.0.0->ipython->jupyterlab->-r requirements.txt (line 2)) (0.2.5)\n",
      "Requirement already satisfied: charset-normalizer~=2.0.0; python_version >= \"3\" in ./venv-notebooks/lib/python3.8/site-packages (from requests->jupyterlab-server~=2.3->jupyterlab->-r requirements.txt (line 2)) (2.0.4)\n",
      "Requirement already satisfied: pyrsistent>=0.14.0 in ./venv-notebooks/lib/python3.8/site-packages (from jsonschema>=3.0.1->jupyterlab-server~=2.3->jupyterlab->-r requirements.txt (line 2)) (0.18.0)\n",
      "Requirement already satisfied: pycparser in ./venv-notebooks/lib/python3.8/site-packages (from cffi>=1.0.0->argon2-cffi->jupyter-server~=1.4->jupyterlab->-r requirements.txt (line 2)) (2.20)\n",
      "Requirement already satisfied: webencodings in ./venv-notebooks/lib/python3.8/site-packages (from bleach->nbconvert->jupyter-server~=1.4->jupyterlab->-r requirements.txt (line 2)) (0.5.1)\n",
      "Requirement already satisfied: debugpy<2.0,>=1.0.0 in ./venv-notebooks/lib/python3.8/site-packages (from ipykernel->notebook<7->nbclassic~=0.2->jupyterlab->-r requirements.txt (line 2)) (1.4.1)\n"
     ]
    }
   ],
   "source": [
    "import sys\n",
    "!{sys.executable} -m pip install -r requirements.txt"
   ]
  },
  {
   "cell_type": "code",
   "execution_count": 2,
   "id": "10c23eb0-76d6-4e60-8e8c-dce2d1dfc9a9",
   "metadata": {
    "tags": []
   },
   "outputs": [],
   "source": [
    "%load_ext autoreload\n",
    "%autoreload 2\n",
    "\n",
    "%run './setup_notebook'"
   ]
  },
  {
   "cell_type": "markdown",
   "id": "c02ee0dd-9013-4451-979f-0c09e811877d",
   "metadata": {},
   "source": [
    "# Load Vehicles\n",
    "\n",
    "Meta data about vehicles is stored in the datalake PG database. \n",
    "\n",
    "Here we use pg to connect and read the entire vehicle table. \n",
    "\n",
    "The schema for the database is in the `db_structure/tables.sql` file"
   ]
  },
  {
   "cell_type": "code",
   "execution_count": 3,
   "id": "6c090fff-4888-480d-8a54-1214582ea871",
   "metadata": {},
   "outputs": [
    {
     "data": {
      "text/html": [
       "<div>\n",
       "<style scoped>\n",
       "    .dataframe tbody tr th:only-of-type {\n",
       "        vertical-align: middle;\n",
       "    }\n",
       "\n",
       "    .dataframe tbody tr th {\n",
       "        vertical-align: top;\n",
       "    }\n",
       "\n",
       "    .dataframe thead th {\n",
       "        text-align: right;\n",
       "    }\n",
       "</style>\n",
       "<table border=\"1\" class=\"dataframe\">\n",
       "  <thead>\n",
       "    <tr style=\"text-align: right;\">\n",
       "      <th></th>\n",
       "      <th>vehicle_id</th>\n",
       "      <th>vehicle_type_id</th>\n",
       "      <th>vehicle_id_string</th>\n",
       "    </tr>\n",
       "  </thead>\n",
       "  <tbody>\n",
       "    <tr>\n",
       "      <th>0</th>\n",
       "      <td>99379</td>\n",
       "      <td>1</td>\n",
       "      <td>QvpbGz/un3z4vYYaDaouYw==</td>\n",
       "    </tr>\n",
       "    <tr>\n",
       "      <th>1</th>\n",
       "      <td>99380</td>\n",
       "      <td>2</td>\n",
       "      <td>AMgGqb8IV9fVCO9iu1H0mA==</td>\n",
       "    </tr>\n",
       "    <tr>\n",
       "      <th>2</th>\n",
       "      <td>99381</td>\n",
       "      <td>3</td>\n",
       "      <td>Sgl6sbxD32WV9ZhhKrqymw==</td>\n",
       "    </tr>\n",
       "    <tr>\n",
       "      <th>3</th>\n",
       "      <td>99382</td>\n",
       "      <td>1</td>\n",
       "      <td>Rktn2b+HN1DRwBJVUturOw==</td>\n",
       "    </tr>\n",
       "    <tr>\n",
       "      <th>4</th>\n",
       "      <td>99383</td>\n",
       "      <td>1</td>\n",
       "      <td>MEB0CyGSavgpmDMMd9J3+A==</td>\n",
       "    </tr>\n",
       "  </tbody>\n",
       "</table>\n",
       "</div>"
      ],
      "text/plain": [
       "   vehicle_id  vehicle_type_id         vehicle_id_string\n",
       "0       99379                1  QvpbGz/un3z4vYYaDaouYw==\n",
       "1       99380                2  AMgGqb8IV9fVCO9iu1H0mA==\n",
       "2       99381                3  Sgl6sbxD32WV9ZhhKrqymw==\n",
       "3       99382                1  Rktn2b+HN1DRwBJVUturOw==\n",
       "4       99383                1  MEB0CyGSavgpmDMMd9J3+A=="
      ]
     },
     "execution_count": 3,
     "metadata": {},
     "output_type": "execute_result"
    }
   ],
   "source": [
    "with pg.connect(\"postgresql://cvts@10.100.0.50:5432/datalake\") as conn:\n",
    "    vehicles = pd.read_sql(\"select * from vehicles;\", conn)\n",
    "vehicles.head()"
   ]
  },
  {
   "cell_type": "markdown",
   "id": "7492207f-c163-48ff-8c7f-50929e1fdbfa",
   "metadata": {},
   "source": [
    "Now we pick a random (first) vehicle and look at it"
   ]
  },
  {
   "cell_type": "code",
   "execution_count": 4,
   "id": "0cd64825-3a7e-45d7-ad5c-f1b59d1e2a99",
   "metadata": {},
   "outputs": [
    {
     "data": {
      "text/plain": [
       "99379"
      ]
     },
     "execution_count": 4,
     "metadata": {},
     "output_type": "execute_result"
    }
   ],
   "source": [
    "veh_1 = vehicles.iloc[0]\n",
    "veh_1.vehicle_id"
   ]
  },
  {
   "cell_type": "markdown",
   "id": "bb96d855-93d3-43a7-966b-cfaa0a99d1e3",
   "metadata": {},
   "source": [
    "## Load GPS Traces\n",
    "Now we get the vehicle's entire trace of locations across all of April"
   ]
  },
  {
   "cell_type": "code",
   "execution_count": 5,
   "id": "8a5e556d-3679-422f-9a40-3fabef21f4e2",
   "metadata": {},
   "outputs": [
    {
     "data": {
      "text/plain": [
       "<AxesSubplot:>"
      ]
     },
     "execution_count": 5,
     "metadata": {},
     "output_type": "execute_result"
    },
    {
     "data": {
      "image/png": "[encoded data removed]",
      "text/plain": [
       "<Figure size 432x288 with 1 Axes>"
      ]
     },
     "metadata": {
      "needs_background": "light"
     },
     "output_type": "display_data"
    }
   ],
   "source": [
    "filename = f'/mnt/data_lake/2020/04/vehicle_{veh_1.vehicle_id}.zip'\n",
    "df = pd.read_csv(filename)\n",
    "gdf = gpd.GeoDataFrame(df, geometry=gpd.points_from_xy(df['x'], df['y']))\n",
    "gdf.plot()"
   ]
  },
  {
   "cell_type": "code",
   "execution_count": 6,
   "id": "fdc14250-c7f6-4328-843a-96a214a7cb30",
   "metadata": {},
   "outputs": [
    {
     "data": {
      "text/html": [
       "<div>\n",
       "<style scoped>\n",
       "    .dataframe tbody tr th:only-of-type {\n",
       "        vertical-align: middle;\n",
       "    }\n",
       "\n",
       "    .dataframe tbody tr th {\n",
       "        vertical-align: top;\n",
       "    }\n",
       "\n",
       "    .dataframe thead th {\n",
       "        text-align: right;\n",
       "    }\n",
       "</style>\n",
       "<table border=\"1\" class=\"dataframe\">\n",
       "  <thead>\n",
       "    <tr style=\"text-align: right;\">\n",
       "      <th></th>\n",
       "      <th>datetime</th>\n",
       "      <th>speed</th>\n",
       "      <th>x</th>\n",
       "      <th>y</th>\n",
       "      <th>heading</th>\n",
       "      <th>geometry</th>\n",
       "    </tr>\n",
       "  </thead>\n",
       "  <tbody>\n",
       "    <tr>\n",
       "      <th>0</th>\n",
       "      <td>1585719622</td>\n",
       "      <td>0.0</td>\n",
       "      <td>106.075008</td>\n",
       "      <td>11.421313</td>\n",
       "      <td>0.0</td>\n",
       "      <td>POINT (106.07501 11.42131)</td>\n",
       "    </tr>\n",
       "    <tr>\n",
       "      <th>1</th>\n",
       "      <td>1585719638</td>\n",
       "      <td>0.0</td>\n",
       "      <td>106.075008</td>\n",
       "      <td>11.421313</td>\n",
       "      <td>0.0</td>\n",
       "      <td>POINT (106.07501 11.42131)</td>\n",
       "    </tr>\n",
       "    <tr>\n",
       "      <th>2</th>\n",
       "      <td>1585719651</td>\n",
       "      <td>0.0</td>\n",
       "      <td>106.075008</td>\n",
       "      <td>11.421313</td>\n",
       "      <td>0.0</td>\n",
       "      <td>POINT (106.07501 11.42131)</td>\n",
       "    </tr>\n",
       "    <tr>\n",
       "      <th>3</th>\n",
       "      <td>1585719671</td>\n",
       "      <td>0.0</td>\n",
       "      <td>106.075008</td>\n",
       "      <td>11.421313</td>\n",
       "      <td>0.0</td>\n",
       "      <td>POINT (106.07501 11.42131)</td>\n",
       "    </tr>\n",
       "    <tr>\n",
       "      <th>4</th>\n",
       "      <td>1585719686</td>\n",
       "      <td>0.0</td>\n",
       "      <td>106.075008</td>\n",
       "      <td>11.421313</td>\n",
       "      <td>0.0</td>\n",
       "      <td>POINT (106.07501 11.42131)</td>\n",
       "    </tr>\n",
       "  </tbody>\n",
       "</table>\n",
       "</div>"
      ],
      "text/plain": [
       "     datetime  speed           x          y  heading  \\\n",
       "0  1585719622    0.0  106.075008  11.421313      0.0   \n",
       "1  1585719638    0.0  106.075008  11.421313      0.0   \n",
       "2  1585719651    0.0  106.075008  11.421313      0.0   \n",
       "3  1585719671    0.0  106.075008  11.421313      0.0   \n",
       "4  1585719686    0.0  106.075008  11.421313      0.0   \n",
       "\n",
       "                     geometry  \n",
       "0  POINT (106.07501 11.42131)  \n",
       "1  POINT (106.07501 11.42131)  \n",
       "2  POINT (106.07501 11.42131)  \n",
       "3  POINT (106.07501 11.42131)  \n",
       "4  POINT (106.07501 11.42131)  "
      ]
     },
     "execution_count": 6,
     "metadata": {},
     "output_type": "execute_result"
    }
   ],
   "source": [
    "gdf.head()"
   ]
  },
  {
   "cell_type": "code",
   "execution_count": null,
   "id": "a3e09cad-dbb8-4c95-a37c-1c2a8ea15cd1",
   "metadata": {},
   "outputs": [],
   "source": []
  }
 ],
 "metadata": {
  "kernelspec": {
   "display_name": "Python 3 (ipykernel)",
   "language": "python",
   "name": "python3"
  },
  "language_info": {
   "codemirror_mode": {
    "name": "ipython",
    "version": 3
   },
   "file_extension": ".py",
   "mimetype": "text/x-python",
   "name": "python",
   "nbconvert_exporter": "python",
   "pygments_lexer": "ipython3",
   "version": "3.8.10"
  }
 },
 "nbformat": 4,
 "nbformat_minor": 5
}
